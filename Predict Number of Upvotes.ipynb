{
 "cells": [
  {
   "cell_type": "markdown",
   "id": "ffe8fc82",
   "metadata": {},
   "source": [
    "## Import Required Libraries"
   ]
  },
  {
   "cell_type": "code",
   "execution_count": 5,
   "id": "212be6af",
   "metadata": {},
   "outputs": [],
   "source": [
    "## load all libraries\n",
    "# load libraries\n",
    "import numpy as np\n",
    "import pandas as pd\n",
    "import matplotlib.pyplot as plt\n",
    "import seaborn as sns\n",
    "import os\n",
    "from collections import Counter\n",
    "from sklearn.preprocessing import scale\n",
    "from sklearn.decomposition import PCA\n",
    "from sklearn.preprocessing import LabelEncoder as le ,MinMaxScaler, RobustScaler, StandardScaler\n",
    "from sklearn.metrics import mean_squared_error\n",
    "from lightgbm import LGBMRegressor\n",
    "import math\n",
    "import sklearn\n",
    "from sklearn.model_selection import train_test_split\n",
    "\n",
    "from sklearn.ensemble import RandomForestRegressor, AdaBoostRegressor, GradientBoostingRegressor, ExtraTreesRegressor, VotingRegressor\n",
    "from xgboost import XGBRegressor \n",
    "from sklearn.discriminant_analysis import LinearDiscriminantAnalysis\n",
    "from sklearn.linear_model import LinearRegression\n",
    "from sklearn.neighbors import KNeighborsRegressor\n",
    "from sklearn.tree import DecisionTreeRegressor\n",
    "from sklearn.neural_network import MLPRegressor\n",
    "from sklearn.svm import SVR\n",
    "from sklearn.model_selection import GridSearchCV,RandomizedSearchCV, cross_val_score, KFold, learning_curve\n",
    "\n",
    "%matplotlib inline\n",
    "import warnings\n",
    "warnings.filterwarnings('ignore')\n",
    "# preprocessing libraries"
   ]
  },
  {
   "cell_type": "markdown",
   "id": "859c660e",
   "metadata": {},
   "source": [
    "## Load Dataset"
   ]
  },
  {
   "cell_type": "code",
   "execution_count": 6,
   "id": "2fe7b2e8",
   "metadata": {},
   "outputs": [
    {
     "data": {
      "text/html": [
       "<div>\n",
       "<style scoped>\n",
       "    .dataframe tbody tr th:only-of-type {\n",
       "        vertical-align: middle;\n",
       "    }\n",
       "\n",
       "    .dataframe tbody tr th {\n",
       "        vertical-align: top;\n",
       "    }\n",
       "\n",
       "    .dataframe thead th {\n",
       "        text-align: right;\n",
       "    }\n",
       "</style>\n",
       "<table border=\"1\" class=\"dataframe\">\n",
       "  <thead>\n",
       "    <tr style=\"text-align: right;\">\n",
       "      <th></th>\n",
       "      <th>ID</th>\n",
       "      <th>Tag</th>\n",
       "      <th>Reputation</th>\n",
       "      <th>Answers</th>\n",
       "      <th>Username</th>\n",
       "      <th>Views</th>\n",
       "      <th>Upvotes</th>\n",
       "    </tr>\n",
       "  </thead>\n",
       "  <tbody>\n",
       "    <tr>\n",
       "      <th>0</th>\n",
       "      <td>52664</td>\n",
       "      <td>a</td>\n",
       "      <td>3942.0</td>\n",
       "      <td>2.0</td>\n",
       "      <td>155623</td>\n",
       "      <td>7855.0</td>\n",
       "      <td>42.0</td>\n",
       "    </tr>\n",
       "    <tr>\n",
       "      <th>1</th>\n",
       "      <td>327662</td>\n",
       "      <td>a</td>\n",
       "      <td>26046.0</td>\n",
       "      <td>12.0</td>\n",
       "      <td>21781</td>\n",
       "      <td>55801.0</td>\n",
       "      <td>1175.0</td>\n",
       "    </tr>\n",
       "    <tr>\n",
       "      <th>2</th>\n",
       "      <td>468453</td>\n",
       "      <td>c</td>\n",
       "      <td>1358.0</td>\n",
       "      <td>4.0</td>\n",
       "      <td>56177</td>\n",
       "      <td>8067.0</td>\n",
       "      <td>60.0</td>\n",
       "    </tr>\n",
       "    <tr>\n",
       "      <th>3</th>\n",
       "      <td>96996</td>\n",
       "      <td>a</td>\n",
       "      <td>264.0</td>\n",
       "      <td>3.0</td>\n",
       "      <td>168793</td>\n",
       "      <td>27064.0</td>\n",
       "      <td>9.0</td>\n",
       "    </tr>\n",
       "    <tr>\n",
       "      <th>4</th>\n",
       "      <td>131465</td>\n",
       "      <td>c</td>\n",
       "      <td>4271.0</td>\n",
       "      <td>4.0</td>\n",
       "      <td>112223</td>\n",
       "      <td>13986.0</td>\n",
       "      <td>83.0</td>\n",
       "    </tr>\n",
       "  </tbody>\n",
       "</table>\n",
       "</div>"
      ],
      "text/plain": [
       "       ID Tag  Reputation  Answers  Username    Views  Upvotes\n",
       "0   52664   a      3942.0      2.0    155623   7855.0     42.0\n",
       "1  327662   a     26046.0     12.0     21781  55801.0   1175.0\n",
       "2  468453   c      1358.0      4.0     56177   8067.0     60.0\n",
       "3   96996   a       264.0      3.0    168793  27064.0      9.0\n",
       "4  131465   c      4271.0      4.0    112223  13986.0     83.0"
      ]
     },
     "execution_count": 6,
     "metadata": {},
     "output_type": "execute_result"
    }
   ],
   "source": [
    "df = pd.read_csv(\"C:/Users/ac/Data Science/Capstone Project 1/Train.csv\")\n",
    "df.head()"
   ]
  },
  {
   "cell_type": "code",
   "execution_count": 7,
   "id": "aeb480e3",
   "metadata": {},
   "outputs": [
    {
     "data": {
      "text/html": [
       "<div>\n",
       "<style scoped>\n",
       "    .dataframe tbody tr th:only-of-type {\n",
       "        vertical-align: middle;\n",
       "    }\n",
       "\n",
       "    .dataframe tbody tr th {\n",
       "        vertical-align: top;\n",
       "    }\n",
       "\n",
       "    .dataframe thead th {\n",
       "        text-align: right;\n",
       "    }\n",
       "</style>\n",
       "<table border=\"1\" class=\"dataframe\">\n",
       "  <thead>\n",
       "    <tr style=\"text-align: right;\">\n",
       "      <th></th>\n",
       "      <th>ID</th>\n",
       "      <th>Tag</th>\n",
       "      <th>Reputation</th>\n",
       "      <th>Answers</th>\n",
       "      <th>Username</th>\n",
       "      <th>Views</th>\n",
       "      <th>Upvotes</th>\n",
       "    </tr>\n",
       "  </thead>\n",
       "  <tbody>\n",
       "    <tr>\n",
       "      <th>0</th>\n",
       "      <td>52664</td>\n",
       "      <td>a</td>\n",
       "      <td>3942.0</td>\n",
       "      <td>2.0</td>\n",
       "      <td>155623</td>\n",
       "      <td>7855.0</td>\n",
       "      <td>42.0</td>\n",
       "    </tr>\n",
       "    <tr>\n",
       "      <th>1</th>\n",
       "      <td>327662</td>\n",
       "      <td>a</td>\n",
       "      <td>26046.0</td>\n",
       "      <td>12.0</td>\n",
       "      <td>21781</td>\n",
       "      <td>55801.0</td>\n",
       "      <td>1175.0</td>\n",
       "    </tr>\n",
       "    <tr>\n",
       "      <th>2</th>\n",
       "      <td>468453</td>\n",
       "      <td>c</td>\n",
       "      <td>1358.0</td>\n",
       "      <td>4.0</td>\n",
       "      <td>56177</td>\n",
       "      <td>8067.0</td>\n",
       "      <td>60.0</td>\n",
       "    </tr>\n",
       "    <tr>\n",
       "      <th>3</th>\n",
       "      <td>96996</td>\n",
       "      <td>a</td>\n",
       "      <td>264.0</td>\n",
       "      <td>3.0</td>\n",
       "      <td>168793</td>\n",
       "      <td>27064.0</td>\n",
       "      <td>9.0</td>\n",
       "    </tr>\n",
       "    <tr>\n",
       "      <th>4</th>\n",
       "      <td>131465</td>\n",
       "      <td>c</td>\n",
       "      <td>4271.0</td>\n",
       "      <td>4.0</td>\n",
       "      <td>112223</td>\n",
       "      <td>13986.0</td>\n",
       "      <td>83.0</td>\n",
       "    </tr>\n",
       "  </tbody>\n",
       "</table>\n",
       "</div>"
      ],
      "text/plain": [
       "       ID Tag  Reputation  Answers  Username    Views  Upvotes\n",
       "0   52664   a      3942.0      2.0    155623   7855.0     42.0\n",
       "1  327662   a     26046.0     12.0     21781  55801.0   1175.0\n",
       "2  468453   c      1358.0      4.0     56177   8067.0     60.0\n",
       "3   96996   a       264.0      3.0    168793  27064.0      9.0\n",
       "4  131465   c      4271.0      4.0    112223  13986.0     83.0"
      ]
     },
     "execution_count": 7,
     "metadata": {},
     "output_type": "execute_result"
    }
   ],
   "source": [
    "df1 = pd.read_csv(\"C:/Users/ac/Data Science/Capstone Project 1/Test.csv\")\n",
    "df.head()"
   ]
  },
  {
   "cell_type": "code",
   "execution_count": 8,
   "id": "1ca9adf5",
   "metadata": {},
   "outputs": [
    {
     "data": {
      "text/html": [
       "<div>\n",
       "<style scoped>\n",
       "    .dataframe tbody tr th:only-of-type {\n",
       "        vertical-align: middle;\n",
       "    }\n",
       "\n",
       "    .dataframe tbody tr th {\n",
       "        vertical-align: top;\n",
       "    }\n",
       "\n",
       "    .dataframe thead th {\n",
       "        text-align: right;\n",
       "    }\n",
       "</style>\n",
       "<table border=\"1\" class=\"dataframe\">\n",
       "  <thead>\n",
       "    <tr style=\"text-align: right;\">\n",
       "      <th></th>\n",
       "      <th>ID</th>\n",
       "      <th>Tag</th>\n",
       "      <th>Reputation</th>\n",
       "      <th>Answers</th>\n",
       "      <th>Username</th>\n",
       "      <th>Views</th>\n",
       "      <th>Upvotes</th>\n",
       "    </tr>\n",
       "  </thead>\n",
       "  <tbody>\n",
       "    <tr>\n",
       "      <th>0</th>\n",
       "      <td>52664</td>\n",
       "      <td>a</td>\n",
       "      <td>3942.0</td>\n",
       "      <td>2.0</td>\n",
       "      <td>155623</td>\n",
       "      <td>7855.0</td>\n",
       "      <td>42.0</td>\n",
       "    </tr>\n",
       "    <tr>\n",
       "      <th>1</th>\n",
       "      <td>327662</td>\n",
       "      <td>a</td>\n",
       "      <td>26046.0</td>\n",
       "      <td>12.0</td>\n",
       "      <td>21781</td>\n",
       "      <td>55801.0</td>\n",
       "      <td>1175.0</td>\n",
       "    </tr>\n",
       "    <tr>\n",
       "      <th>2</th>\n",
       "      <td>468453</td>\n",
       "      <td>c</td>\n",
       "      <td>1358.0</td>\n",
       "      <td>4.0</td>\n",
       "      <td>56177</td>\n",
       "      <td>8067.0</td>\n",
       "      <td>60.0</td>\n",
       "    </tr>\n",
       "    <tr>\n",
       "      <th>3</th>\n",
       "      <td>96996</td>\n",
       "      <td>a</td>\n",
       "      <td>264.0</td>\n",
       "      <td>3.0</td>\n",
       "      <td>168793</td>\n",
       "      <td>27064.0</td>\n",
       "      <td>9.0</td>\n",
       "    </tr>\n",
       "    <tr>\n",
       "      <th>4</th>\n",
       "      <td>131465</td>\n",
       "      <td>c</td>\n",
       "      <td>4271.0</td>\n",
       "      <td>4.0</td>\n",
       "      <td>112223</td>\n",
       "      <td>13986.0</td>\n",
       "      <td>83.0</td>\n",
       "    </tr>\n",
       "  </tbody>\n",
       "</table>\n",
       "</div>"
      ],
      "text/plain": [
       "       ID Tag  Reputation  Answers  Username    Views  Upvotes\n",
       "0   52664   a      3942.0      2.0    155623   7855.0     42.0\n",
       "1  327662   a     26046.0     12.0     21781  55801.0   1175.0\n",
       "2  468453   c      1358.0      4.0     56177   8067.0     60.0\n",
       "3   96996   a       264.0      3.0    168793  27064.0      9.0\n",
       "4  131465   c      4271.0      4.0    112223  13986.0     83.0"
      ]
     },
     "execution_count": 8,
     "metadata": {},
     "output_type": "execute_result"
    }
   ],
   "source": [
    "df2 = pd.read_csv(\"C:/Users/ac/Data Science/Capstone Project 1/Sample_Submission.csv\")\n",
    "df.head()"
   ]
  },
  {
   "cell_type": "markdown",
   "id": "f1b93b9a",
   "metadata": {},
   "source": [
    "## Basic Dataset information"
   ]
  },
  {
   "cell_type": "code",
   "execution_count": 9,
   "id": "3620d233",
   "metadata": {},
   "outputs": [
    {
     "name": "stdout",
     "output_type": "stream",
     "text": [
      "Train data contains 330045 rows and 7 columns\n",
      "Train data contains 141448 rows and 6 columns\n"
     ]
    }
   ],
   "source": [
    "print('Train data contains', df.shape[0], 'rows and', df.shape[1], 'columns')\n",
    "print('Train data contains', df1.shape[0], 'rows and', df1.shape[1], 'columns')"
   ]
  },
  {
   "cell_type": "code",
   "execution_count": 10,
   "id": "bffed1dc",
   "metadata": {},
   "outputs": [
    {
     "name": "stdout",
     "output_type": "stream",
     "text": [
      "<class 'pandas.core.frame.DataFrame'>\n",
      "RangeIndex: 330045 entries, 0 to 330044\n",
      "Data columns (total 7 columns):\n",
      " #   Column      Non-Null Count   Dtype  \n",
      "---  ------      --------------   -----  \n",
      " 0   ID          330045 non-null  int64  \n",
      " 1   Tag         330045 non-null  object \n",
      " 2   Reputation  330045 non-null  float64\n",
      " 3   Answers     330045 non-null  float64\n",
      " 4   Username    330045 non-null  int64  \n",
      " 5   Views       330045 non-null  float64\n",
      " 6   Upvotes     330045 non-null  float64\n",
      "dtypes: float64(4), int64(2), object(1)\n",
      "memory usage: 17.6+ MB\n"
     ]
    }
   ],
   "source": [
    "df.info()"
   ]
  },
  {
   "cell_type": "code",
   "execution_count": null,
   "id": "d94565c9",
   "metadata": {},
   "outputs": [],
   "source": [
    "# DROPPING THE UNWANTED COLUMN (ID) \n",
    "df.drop(columns=[\"ID\"], inplace=True)"
   ]
  },
  {
   "cell_type": "code",
   "execution_count": 31,
   "id": "ceaa20be",
   "metadata": {},
   "outputs": [
    {
     "data": {
      "text/plain": [
       "Index(['Tag', 'Reputation', 'Answers', 'Username', 'Views', 'Upvotes'], dtype='object')"
      ]
     },
     "execution_count": 31,
     "metadata": {},
     "output_type": "execute_result"
    }
   ],
   "source": [
    "df.columns"
   ]
  },
  {
   "cell_type": "code",
   "execution_count": 13,
   "id": "458308fb",
   "metadata": {},
   "outputs": [
    {
     "data": {
      "text/plain": [
       "count     330045\n",
       "unique        10\n",
       "top            c\n",
       "freq       72458\n",
       "Name: Tag, dtype: object"
      ]
     },
     "execution_count": 13,
     "metadata": {},
     "output_type": "execute_result"
    }
   ],
   "source": [
    "df[\"Tag\"].describe()"
   ]
  },
  {
   "cell_type": "code",
   "execution_count": 14,
   "id": "89d010d0",
   "metadata": {},
   "outputs": [
    {
     "data": {
      "text/plain": [
       "c    72458\n",
       "j    72232\n",
       "p    43407\n",
       "i    32400\n",
       "a    31695\n",
       "s    23323\n",
       "h    20564\n",
       "o    14546\n",
       "r    12442\n",
       "x     6978\n",
       "Name: Tag, dtype: int64"
      ]
     },
     "execution_count": 14,
     "metadata": {},
     "output_type": "execute_result"
    }
   ],
   "source": [
    "df[\"Tag\"].value_counts()"
   ]
  },
  {
   "cell_type": "code",
   "execution_count": 15,
   "id": "7aed112b",
   "metadata": {},
   "outputs": [
    {
     "data": {
      "text/plain": [
       "<AxesSubplot:>"
      ]
     },
     "execution_count": 15,
     "metadata": {},
     "output_type": "execute_result"
    },
    {
     "data": {
      "image/png": "[encoded data removed]",
      "text/plain": [
       "<Figure size 432x288 with 1 Axes>"
      ]
     },
     "metadata": {
      "needs_background": "light"
     },
     "output_type": "display_data"
    }
   ],
   "source": [
    "df[\"Tag\"].value_counts().plot(kind=\"bar\")"
   ]
  },
  {
   "cell_type": "code",
   "execution_count": 16,
   "id": "793da912",
   "metadata": {},
   "outputs": [],
   "source": [
    "# setting the decimal place as 2\n",
    "pd.set_option(\"float_format\",lambda x :\"%.2f\" %x)"
   ]
  },
  {
   "cell_type": "code",
   "execution_count": 17,
   "id": "605c58fe",
   "metadata": {},
   "outputs": [
    {
     "data": {
      "text/plain": [
       "count    330045.00\n",
       "mean       7773.15\n",
       "std       27061.41\n",
       "min           0.00\n",
       "1%            0.00\n",
       "2%            0.00\n",
       "3%            8.00\n",
       "4%           14.00\n",
       "5%           21.00\n",
       "10%          54.00\n",
       "25%         282.00\n",
       "50%        1236.00\n",
       "75%        5118.00\n",
       "90%       16651.00\n",
       "95%       32209.00\n",
       "96%       38658.00\n",
       "97%       49761.00\n",
       "98%       67157.00\n",
       "99%      113925.00\n",
       "max     1042428.00\n",
       "Name: Reputation, dtype: float64"
      ]
     },
     "execution_count": 17,
     "metadata": {},
     "output_type": "execute_result"
    }
   ],
   "source": [
    "df[\"Reputation\"].describe(percentiles=[0.01, 0.02,0.03, 0.04, 0.05, 0.1, .25, .5, .75, .9, .95, .96, .97, .98, .99]).T"
   ]
  },
  {
   "cell_type": "code",
   "execution_count": 18,
   "id": "0a4d753c",
   "metadata": {},
   "outputs": [
    {
     "data": {
      "text/plain": [
       "count   330045.00\n",
       "mean         3.92\n",
       "std          3.58\n",
       "min          0.00\n",
       "25%          2.00\n",
       "50%          3.00\n",
       "75%          5.00\n",
       "max         76.00\n",
       "Name: Answers, dtype: float64"
      ]
     },
     "execution_count": 18,
     "metadata": {},
     "output_type": "execute_result"
    }
   ],
   "source": [
    "df[\"Answers\"].describe()"
   ]
  },
  {
   "cell_type": "code",
   "execution_count": 19,
   "id": "f3c722bd",
   "metadata": {},
   "outputs": [
    {
     "data": {
      "text/plain": [
       "count   330045.00\n",
       "mean     81442.89\n",
       "std      49215.10\n",
       "min          0.00\n",
       "25%      39808.00\n",
       "50%      79010.00\n",
       "75%     122559.00\n",
       "max     175738.00\n",
       "Name: Username, dtype: float64"
      ]
     },
     "execution_count": 19,
     "metadata": {},
     "output_type": "execute_result"
    }
   ],
   "source": [
    "df[\"Username\"].describe()"
   ]
  },
  {
   "cell_type": "code",
   "execution_count": 20,
   "id": "320893b0",
   "metadata": {},
   "outputs": [
    {
     "data": {
      "text/plain": [
       "count    330045.00\n",
       "mean      29645.07\n",
       "std       80956.46\n",
       "min           9.00\n",
       "25%        2594.00\n",
       "50%        8954.00\n",
       "75%       26870.00\n",
       "max     5231058.00\n",
       "Name: Views, dtype: float64"
      ]
     },
     "execution_count": 20,
     "metadata": {},
     "output_type": "execute_result"
    }
   ],
   "source": [
    "df[\"Views\"].describe()"
   ]
  },
  {
   "cell_type": "code",
   "execution_count": 21,
   "id": "b523a9d7",
   "metadata": {},
   "outputs": [
    {
     "data": {
      "text/plain": [
       "count   330045.00\n",
       "mean       337.51\n",
       "std       3592.44\n",
       "min          0.00\n",
       "25%          8.00\n",
       "50%         28.00\n",
       "75%        107.00\n",
       "max     615278.00\n",
       "Name: Upvotes, dtype: float64"
      ]
     },
     "execution_count": 21,
     "metadata": {},
     "output_type": "execute_result"
    }
   ],
   "source": [
    "df[\"Upvotes\"].describe()"
   ]
  },
  {
   "cell_type": "markdown",
   "id": "65693cc1",
   "metadata": {},
   "source": [
    "## Checking For null values"
   ]
  },
  {
   "cell_type": "code",
   "execution_count": 22,
   "id": "126fa5b5",
   "metadata": {},
   "outputs": [
    {
     "name": "stdout",
     "output_type": "stream",
     "text": [
      "Tag           0\n",
      "Reputation    0\n",
      "Answers       0\n",
      "Username      0\n",
      "Views         0\n",
      "Upvotes       0\n",
      "dtype: int64\n",
      "ID            0\n",
      "Tag           0\n",
      "Reputation    0\n",
      "Answers       0\n",
      "Username      0\n",
      "Views         0\n",
      "dtype: int64\n"
     ]
    }
   ],
   "source": [
    "# finding the no. of null values in both train and test\n",
    "print(df.isnull().sum())\n",
    "print(df1.isnull().sum())"
   ]
  },
  {
   "cell_type": "markdown",
   "id": "361a0793",
   "metadata": {},
   "source": [
    "## Checking and Describing Outliers"
   ]
  },
  {
   "cell_type": "code",
   "execution_count": 23,
   "id": "847c3bee",
   "metadata": {},
   "outputs": [
    {
     "data": {
      "text/html": [
       "<div>\n",
       "<style scoped>\n",
       "    .dataframe tbody tr th:only-of-type {\n",
       "        vertical-align: middle;\n",
       "    }\n",
       "\n",
       "    .dataframe tbody tr th {\n",
       "        vertical-align: top;\n",
       "    }\n",
       "\n",
       "    .dataframe thead th {\n",
       "        text-align: right;\n",
       "    }\n",
       "</style>\n",
       "<table border=\"1\" class=\"dataframe\">\n",
       "  <thead>\n",
       "    <tr style=\"text-align: right;\">\n",
       "      <th></th>\n",
       "      <th>count</th>\n",
       "      <th>mean</th>\n",
       "      <th>std</th>\n",
       "      <th>min</th>\n",
       "      <th>1%</th>\n",
       "      <th>2%</th>\n",
       "      <th>3%</th>\n",
       "      <th>4%</th>\n",
       "      <th>5%</th>\n",
       "      <th>10%</th>\n",
       "      <th>25%</th>\n",
       "      <th>50%</th>\n",
       "      <th>75%</th>\n",
       "      <th>90%</th>\n",
       "      <th>95%</th>\n",
       "      <th>96%</th>\n",
       "      <th>97%</th>\n",
       "      <th>98%</th>\n",
       "      <th>99%</th>\n",
       "      <th>max</th>\n",
       "    </tr>\n",
       "  </thead>\n",
       "  <tbody>\n",
       "    <tr>\n",
       "      <th>Reputation</th>\n",
       "      <td>330045.00</td>\n",
       "      <td>7773.15</td>\n",
       "      <td>27061.41</td>\n",
       "      <td>0.00</td>\n",
       "      <td>0.00</td>\n",
       "      <td>0.00</td>\n",
       "      <td>8.00</td>\n",
       "      <td>14.00</td>\n",
       "      <td>21.00</td>\n",
       "      <td>54.00</td>\n",
       "      <td>282.00</td>\n",
       "      <td>1236.00</td>\n",
       "      <td>5118.00</td>\n",
       "      <td>16651.00</td>\n",
       "      <td>32209.00</td>\n",
       "      <td>38658.00</td>\n",
       "      <td>49761.00</td>\n",
       "      <td>67157.00</td>\n",
       "      <td>113925.00</td>\n",
       "      <td>1042428.00</td>\n",
       "    </tr>\n",
       "    <tr>\n",
       "      <th>Answers</th>\n",
       "      <td>330045.00</td>\n",
       "      <td>3.92</td>\n",
       "      <td>3.58</td>\n",
       "      <td>0.00</td>\n",
       "      <td>1.00</td>\n",
       "      <td>1.00</td>\n",
       "      <td>1.00</td>\n",
       "      <td>1.00</td>\n",
       "      <td>1.00</td>\n",
       "      <td>1.00</td>\n",
       "      <td>2.00</td>\n",
       "      <td>3.00</td>\n",
       "      <td>5.00</td>\n",
       "      <td>8.00</td>\n",
       "      <td>10.00</td>\n",
       "      <td>11.00</td>\n",
       "      <td>12.00</td>\n",
       "      <td>14.00</td>\n",
       "      <td>18.00</td>\n",
       "      <td>76.00</td>\n",
       "    </tr>\n",
       "    <tr>\n",
       "      <th>Username</th>\n",
       "      <td>330045.00</td>\n",
       "      <td>81442.89</td>\n",
       "      <td>49215.10</td>\n",
       "      <td>0.00</td>\n",
       "      <td>1784.00</td>\n",
       "      <td>3291.88</td>\n",
       "      <td>4587.00</td>\n",
       "      <td>6107.76</td>\n",
       "      <td>7296.00</td>\n",
       "      <td>15299.00</td>\n",
       "      <td>39808.00</td>\n",
       "      <td>79010.00</td>\n",
       "      <td>122559.00</td>\n",
       "      <td>150672.60</td>\n",
       "      <td>163922.00</td>\n",
       "      <td>167044.48</td>\n",
       "      <td>169575.00</td>\n",
       "      <td>171827.00</td>\n",
       "      <td>173837.00</td>\n",
       "      <td>175738.00</td>\n",
       "    </tr>\n",
       "    <tr>\n",
       "      <th>Views</th>\n",
       "      <td>330045.00</td>\n",
       "      <td>29645.07</td>\n",
       "      <td>80956.46</td>\n",
       "      <td>9.00</td>\n",
       "      <td>78.00</td>\n",
       "      <td>122.00</td>\n",
       "      <td>177.00</td>\n",
       "      <td>239.00</td>\n",
       "      <td>310.00</td>\n",
       "      <td>722.00</td>\n",
       "      <td>2594.00</td>\n",
       "      <td>8954.00</td>\n",
       "      <td>26870.00</td>\n",
       "      <td>68290.40</td>\n",
       "      <td>116699.80</td>\n",
       "      <td>136875.68</td>\n",
       "      <td>166663.40</td>\n",
       "      <td>216458.72</td>\n",
       "      <td>316887.04</td>\n",
       "      <td>5231058.00</td>\n",
       "    </tr>\n",
       "    <tr>\n",
       "      <th>Upvotes</th>\n",
       "      <td>330045.00</td>\n",
       "      <td>337.51</td>\n",
       "      <td>3592.44</td>\n",
       "      <td>0.00</td>\n",
       "      <td>0.00</td>\n",
       "      <td>0.00</td>\n",
       "      <td>1.00</td>\n",
       "      <td>1.00</td>\n",
       "      <td>1.00</td>\n",
       "      <td>3.00</td>\n",
       "      <td>8.00</td>\n",
       "      <td>28.00</td>\n",
       "      <td>107.00</td>\n",
       "      <td>411.00</td>\n",
       "      <td>959.00</td>\n",
       "      <td>1247.00</td>\n",
       "      <td>1709.00</td>\n",
       "      <td>2660.00</td>\n",
       "      <td>5030.00</td>\n",
       "      <td>615278.00</td>\n",
       "    </tr>\n",
       "  </tbody>\n",
       "</table>\n",
       "</div>"
      ],
      "text/plain": [
       "               count     mean      std  min      1%      2%      3%      4%  \\\n",
       "Reputation 330045.00  7773.15 27061.41 0.00    0.00    0.00    8.00   14.00   \n",
       "Answers    330045.00     3.92     3.58 0.00    1.00    1.00    1.00    1.00   \n",
       "Username   330045.00 81442.89 49215.10 0.00 1784.00 3291.88 4587.00 6107.76   \n",
       "Views      330045.00 29645.07 80956.46 9.00   78.00  122.00  177.00  239.00   \n",
       "Upvotes    330045.00   337.51  3592.44 0.00    0.00    0.00    1.00    1.00   \n",
       "\n",
       "                5%      10%      25%      50%       75%       90%       95%  \\\n",
       "Reputation   21.00    54.00   282.00  1236.00   5118.00  16651.00  32209.00   \n",
       "Answers       1.00     1.00     2.00     3.00      5.00      8.00     10.00   \n",
       "Username   7296.00 15299.00 39808.00 79010.00 122559.00 150672.60 163922.00   \n",
       "Views       310.00   722.00  2594.00  8954.00  26870.00  68290.40 116699.80   \n",
       "Upvotes       1.00     3.00     8.00    28.00    107.00    411.00    959.00   \n",
       "\n",
       "                 96%       97%       98%       99%        max  \n",
       "Reputation  38658.00  49761.00  67157.00 113925.00 1042428.00  \n",
       "Answers        11.00     12.00     14.00     18.00      76.00  \n",
       "Username   167044.48 169575.00 171827.00 173837.00  175738.00  \n",
       "Views      136875.68 166663.40 216458.72 316887.04 5231058.00  \n",
       "Upvotes      1247.00   1709.00   2660.00   5030.00  615278.00  "
      ]
     },
     "execution_count": 23,
     "metadata": {},
     "output_type": "execute_result"
    }
   ],
   "source": [
    "df.describe(percentiles=[0.01, 0.02,0.03, 0.04, 0.05, 0.1, .25, .5, .75, .9, .95, .96, .97, .98, .99]).T"
   ]
  },
  {
   "cell_type": "code",
   "execution_count": 24,
   "id": "8af3a94c",
   "metadata": {},
   "outputs": [],
   "source": [
    "# removing outlier from the data using inter - quaartile range method\n",
    "\n",
    "def outlier_removal(df,attributes,n):\n",
    "    # take loop through the attributes\n",
    "    outliers_indices = []\n",
    "    for col in attributes:\n",
    "        # calculating inter-quartile range\n",
    "        Q1 = df[col].quantile(0.25)\n",
    "        # 3rd quartile (75%)\n",
    "        Q3 = df[col].quantile(0.75)\n",
    "        # Interquartile range (IQR)\n",
    "        IQR = Q3 - Q1\n",
    "        # outlier step\n",
    "        outlier_step = 1.5 * IQR\n",
    "        \n",
    "        # Determine a list of indices of outliers for feature col\n",
    "        index = df[(df[col] < Q1 - outlier_step) | (df[col] > Q3 + outlier_step )].index\n",
    "        outliers_indices.extend(index)\n",
    "    # finding index which have more than 2\n",
    "    outliers_indices = Counter(outliers_indices)\n",
    "    multiple_outliers = list(k for k,v in outliers_indices.items() if v>n) # n tells the no. of outliers present in an example for removal\n",
    "    return multiple_outliers "
   ]
  },
  {
   "cell_type": "code",
   "execution_count": 25,
   "id": "1c059048",
   "metadata": {},
   "outputs": [
    {
     "name": "stdout",
     "output_type": "stream",
     "text": [
      "There are 68146 no. of examples which have outliers in 1 columns \n",
      "the examples for this are        Tag  Reputation  Answers  Username     Views  Upvotes\n",
      "1        a    26046.00    12.00     21781  55801.00  1175.00\n",
      "26       c      569.00    12.00    116775  38443.00    57.00\n",
      "37       h    18404.00    13.00     73061 118423.00  2963.00\n",
      "46       i        0.00    22.00     45812  45331.00    30.00\n",
      "60       a    12951.00    10.00      9362  33325.00   675.00\n",
      "...     ..         ...      ...       ...       ...      ...\n",
      "329988   s     8908.00     6.00      7230  26949.00   413.00\n",
      "329996   i     8771.00     5.00     45973  51089.00   460.00\n",
      "329997   a     6562.00     1.00     92144  46086.00   349.00\n",
      "330032   c    34577.00     4.00     14252  61238.00  1276.00\n",
      "330039   s    84007.00     5.00     78311   5335.00   742.00\n",
      "\n",
      "[68146 rows x 6 columns]\n",
      "There are 26541 no. of examples which have outliers in 2 columns \n",
      "the examples for this are        Tag  Reputation  Answers  Username     Views  Upvotes\n",
      "1        a    26046.00    12.00     21781  55801.00  1175.00\n",
      "37       h    18404.00    13.00     73061 118423.00  2963.00\n",
      "60       a    12951.00    10.00      9362  33325.00   675.00\n",
      "75       c     2457.00    11.00     14435  66101.00   237.00\n",
      "95       j    19027.00    41.00     23334 752007.00 12565.00\n",
      "...     ..         ...      ...       ...       ...      ...\n",
      "329904   c    16156.00     9.00     20063 105356.00  2549.00\n",
      "329912   j    19392.00     6.00    129187 121854.00  8067.00\n",
      "329934   p     2511.00     5.00    129670  80180.00   330.00\n",
      "329954   j     5902.00     6.00     79798 189390.00  1825.00\n",
      "329976   p     2801.00     5.00     47400 111208.00   484.00\n",
      "\n",
      "[26541 rows x 6 columns]\n",
      "There are 8156 no. of examples which have outliers in 3 columns \n",
      "the examples for this are        Tag  Reputation  Answers  Username     Views  Upvotes\n",
      "37       h    18404.00    13.00     73061 118423.00  2963.00\n",
      "95       j    19027.00    41.00     23334 752007.00 12565.00\n",
      "100      s     2945.00    13.00     12634 281031.00   804.00\n",
      "123      s    10527.00    16.00     37816  84331.00   592.00\n",
      "155      j     2762.00    13.00     76313 895555.00  2056.00\n",
      "...     ..         ...      ...       ...       ...      ...\n",
      "329615   s    38508.00    14.00     15643  83309.00  1356.00\n",
      "329621   p     7271.00    27.00    121685 123198.00  1073.00\n",
      "329840   j     5283.00    10.00     55164 103818.00   617.00\n",
      "329883   j     2479.00    13.00     23771 100253.00  2735.00\n",
      "329963   j    91541.00    14.00     19092 555311.00 45611.00\n",
      "\n",
      "[8156 rows x 6 columns]\n",
      "There are 0 no. of examples which have outliers in 4 columns \n",
      "the examples for this are Empty DataFrame\n",
      "Columns: [Tag, Reputation, Answers, Username, Views, Upvotes]\n",
      "Index: []\n"
     ]
    }
   ],
   "source": [
    "# identifying the number of outliers in each row \n",
    "index_list_count = []\n",
    "for i in range(len(df.columns[2:6])):\n",
    "    multioutlier_indices = outlier_removal(df,df.columns[2:6],i)\n",
    "    print('There are {} no. of examples which have outliers in {} columns '.format(len(multioutlier_indices), i+1))\n",
    "    index_list_count.append(len(multioutlier_indices))      \n",
    "    print('the examples for this are',df.loc[multioutlier_indices] )  "
   ]
  },
  {
   "cell_type": "code",
   "execution_count": 30,
   "id": "b65bb80a",
   "metadata": {},
   "outputs": [
    {
     "data": {
      "text/plain": [
       "Text(0.5, 1.0, 'plot for examples vs outlier columns ')"
      ]
     },
     "execution_count": 30,
     "metadata": {},
     "output_type": "execute_result"
    },
    {
     "data": {
      "image/png": "[encoded data removed]",
      "text/plain": [
       "<Figure size 432x288 with 1 Axes>"
      ]
     },
     "metadata": {
      "needs_background": "light"
     },
     "output_type": "display_data"
    }
   ],
   "source": [
    "sns.barplot(x = [1,2,3,4],y = index_list_count)\n",
    "plt.ylabel('no. of example')\n",
    "plt.xlabel('no. of columns containing outlier')\n",
    "plt.title('plot for examples vs outlier columns ')"
   ]
  },
  {
   "cell_type": "markdown",
   "id": "1b7d44af",
   "metadata": {},
   "source": [
    "## Checking Correlation"
   ]
  },
  {
   "cell_type": "code",
   "execution_count": 44,
   "id": "406da4e4",
   "metadata": {},
   "outputs": [
    {
     "data": {
      "text/html": [
       "<div>\n",
       "<style scoped>\n",
       "    .dataframe tbody tr th:only-of-type {\n",
       "        vertical-align: middle;\n",
       "    }\n",
       "\n",
       "    .dataframe tbody tr th {\n",
       "        vertical-align: top;\n",
       "    }\n",
       "\n",
       "    .dataframe thead th {\n",
       "        text-align: right;\n",
       "    }\n",
       "</style>\n",
       "<table border=\"1\" class=\"dataframe\">\n",
       "  <thead>\n",
       "    <tr style=\"text-align: right;\">\n",
       "      <th></th>\n",
       "      <th>Reputation</th>\n",
       "      <th>Answers</th>\n",
       "      <th>Username</th>\n",
       "      <th>Views</th>\n",
       "      <th>Upvotes</th>\n",
       "    </tr>\n",
       "  </thead>\n",
       "  <tbody>\n",
       "    <tr>\n",
       "      <th>Reputation</th>\n",
       "      <td>1.00</td>\n",
       "      <td>0.07</td>\n",
       "      <td>-0.04</td>\n",
       "      <td>0.04</td>\n",
       "      <td>0.27</td>\n",
       "    </tr>\n",
       "    <tr>\n",
       "      <th>Answers</th>\n",
       "      <td>0.07</td>\n",
       "      <td>1.00</td>\n",
       "      <td>-0.01</td>\n",
       "      <td>0.50</td>\n",
       "      <td>0.20</td>\n",
       "    </tr>\n",
       "    <tr>\n",
       "      <th>Username</th>\n",
       "      <td>-0.04</td>\n",
       "      <td>-0.01</td>\n",
       "      <td>1.00</td>\n",
       "      <td>0.00</td>\n",
       "      <td>-0.01</td>\n",
       "    </tr>\n",
       "    <tr>\n",
       "      <th>Views</th>\n",
       "      <td>0.04</td>\n",
       "      <td>0.50</td>\n",
       "      <td>0.00</td>\n",
       "      <td>1.00</td>\n",
       "      <td>0.44</td>\n",
       "    </tr>\n",
       "    <tr>\n",
       "      <th>Upvotes</th>\n",
       "      <td>0.27</td>\n",
       "      <td>0.20</td>\n",
       "      <td>-0.01</td>\n",
       "      <td>0.44</td>\n",
       "      <td>1.00</td>\n",
       "    </tr>\n",
       "  </tbody>\n",
       "</table>\n",
       "</div>"
      ],
      "text/plain": [
       "            Reputation  Answers  Username  Views  Upvotes\n",
       "Reputation        1.00     0.07     -0.04   0.04     0.27\n",
       "Answers           0.07     1.00     -0.01   0.50     0.20\n",
       "Username         -0.04    -0.01      1.00   0.00    -0.01\n",
       "Views             0.04     0.50      0.00   1.00     0.44\n",
       "Upvotes           0.27     0.20     -0.01   0.44     1.00"
      ]
     },
     "execution_count": 44,
     "metadata": {},
     "output_type": "execute_result"
    }
   ],
   "source": [
    "# correlation table \n",
    "df.corr()"
   ]
  },
  {
   "cell_type": "code",
   "execution_count": 41,
   "id": "4f1103ce",
   "metadata": {},
   "outputs": [
    {
     "data": {
      "text/plain": [
       "<AxesSubplot:>"
      ]
     },
     "execution_count": 41,
     "metadata": {},
     "output_type": "execute_result"
    },
    {
     "data": {
      "image/png": "[encoded data removed]",
      "text/plain": [
       "<Figure size 432x288 with 2 Axes>"
      ]
     },
     "metadata": {
      "needs_background": "light"
     },
     "output_type": "display_data"
    }
   ],
   "source": [
    "# heatmap of correlation\n",
    "sns.heatmap(df.iloc[:,1:].corr(),annot = True, fmt = '.2f')"
   ]
  },
  {
   "cell_type": "markdown",
   "id": "fc6e25c7",
   "metadata": {},
   "source": [
    "#### With the help of correlation table and heatmap we can define that username doesn't have any significant effect on upvotes."
   ]
  },
  {
   "cell_type": "markdown",
   "id": "d92add73",
   "metadata": {},
   "source": [
    "## Analyzing, Transforming and Outlier treatment "
   ]
  },
  {
   "cell_type": "code",
   "execution_count": 34,
   "id": "2197acbc",
   "metadata": {},
   "outputs": [],
   "source": [
    "# dropping id to be not used for prediction in any way\n",
    "df1.drop('ID',axis=1,inplace=True)  "
   ]
  },
  {
   "cell_type": "code",
   "execution_count": 35,
   "id": "5986b717",
   "metadata": {},
   "outputs": [
    {
     "name": "stdout",
     "output_type": "stream",
     "text": [
      "471493\n"
     ]
    },
    {
     "data": {
      "text/html": [
       "<div>\n",
       "<style scoped>\n",
       "    .dataframe tbody tr th:only-of-type {\n",
       "        vertical-align: middle;\n",
       "    }\n",
       "\n",
       "    .dataframe tbody tr th {\n",
       "        vertical-align: top;\n",
       "    }\n",
       "\n",
       "    .dataframe thead th {\n",
       "        text-align: right;\n",
       "    }\n",
       "</style>\n",
       "<table border=\"1\" class=\"dataframe\">\n",
       "  <thead>\n",
       "    <tr style=\"text-align: right;\">\n",
       "      <th></th>\n",
       "      <th>Answers</th>\n",
       "      <th>Reputation</th>\n",
       "      <th>Tag</th>\n",
       "      <th>Upvotes</th>\n",
       "      <th>Username</th>\n",
       "      <th>Views</th>\n",
       "    </tr>\n",
       "  </thead>\n",
       "  <tbody>\n",
       "    <tr>\n",
       "      <th>0</th>\n",
       "      <td>2.00</td>\n",
       "      <td>3942.00</td>\n",
       "      <td>a</td>\n",
       "      <td>42.00</td>\n",
       "      <td>155623</td>\n",
       "      <td>7855.00</td>\n",
       "    </tr>\n",
       "    <tr>\n",
       "      <th>1</th>\n",
       "      <td>12.00</td>\n",
       "      <td>26046.00</td>\n",
       "      <td>a</td>\n",
       "      <td>1175.00</td>\n",
       "      <td>21781</td>\n",
       "      <td>55801.00</td>\n",
       "    </tr>\n",
       "    <tr>\n",
       "      <th>2</th>\n",
       "      <td>4.00</td>\n",
       "      <td>1358.00</td>\n",
       "      <td>c</td>\n",
       "      <td>60.00</td>\n",
       "      <td>56177</td>\n",
       "      <td>8067.00</td>\n",
       "    </tr>\n",
       "    <tr>\n",
       "      <th>3</th>\n",
       "      <td>3.00</td>\n",
       "      <td>264.00</td>\n",
       "      <td>a</td>\n",
       "      <td>9.00</td>\n",
       "      <td>168793</td>\n",
       "      <td>27064.00</td>\n",
       "    </tr>\n",
       "    <tr>\n",
       "      <th>4</th>\n",
       "      <td>4.00</td>\n",
       "      <td>4271.00</td>\n",
       "      <td>c</td>\n",
       "      <td>83.00</td>\n",
       "      <td>112223</td>\n",
       "      <td>13986.00</td>\n",
       "    </tr>\n",
       "    <tr>\n",
       "      <th>...</th>\n",
       "      <td>...</td>\n",
       "      <td>...</td>\n",
       "      <td>...</td>\n",
       "      <td>...</td>\n",
       "      <td>...</td>\n",
       "      <td>...</td>\n",
       "    </tr>\n",
       "    <tr>\n",
       "      <th>471488</th>\n",
       "      <td>4.00</td>\n",
       "      <td>4681.00</td>\n",
       "      <td>j</td>\n",
       "      <td>NaN</td>\n",
       "      <td>152060</td>\n",
       "      <td>2469.00</td>\n",
       "    </tr>\n",
       "    <tr>\n",
       "      <th>471489</th>\n",
       "      <td>3.00</td>\n",
       "      <td>7782.00</td>\n",
       "      <td>j</td>\n",
       "      <td>NaN</td>\n",
       "      <td>89235</td>\n",
       "      <td>18998.00</td>\n",
       "    </tr>\n",
       "    <tr>\n",
       "      <th>471490</th>\n",
       "      <td>5.00</td>\n",
       "      <td>435.00</td>\n",
       "      <td>p</td>\n",
       "      <td>NaN</td>\n",
       "      <td>119788</td>\n",
       "      <td>57048.00</td>\n",
       "    </tr>\n",
       "    <tr>\n",
       "      <th>471491</th>\n",
       "      <td>3.00</td>\n",
       "      <td>176.00</td>\n",
       "      <td>o</td>\n",
       "      <td>NaN</td>\n",
       "      <td>86824</td>\n",
       "      <td>10193.00</td>\n",
       "    </tr>\n",
       "    <tr>\n",
       "      <th>471492</th>\n",
       "      <td>2.00</td>\n",
       "      <td>648.00</td>\n",
       "      <td>a</td>\n",
       "      <td>NaN</td>\n",
       "      <td>102240</td>\n",
       "      <td>12785.00</td>\n",
       "    </tr>\n",
       "  </tbody>\n",
       "</table>\n",
       "<p>471493 rows × 6 columns</p>\n",
       "</div>"
      ],
      "text/plain": [
       "        Answers  Reputation Tag  Upvotes  Username    Views\n",
       "0          2.00     3942.00   a    42.00    155623  7855.00\n",
       "1         12.00    26046.00   a  1175.00     21781 55801.00\n",
       "2          4.00     1358.00   c    60.00     56177  8067.00\n",
       "3          3.00      264.00   a     9.00    168793 27064.00\n",
       "4          4.00     4271.00   c    83.00    112223 13986.00\n",
       "...         ...         ...  ..      ...       ...      ...\n",
       "471488     4.00     4681.00   j      NaN    152060  2469.00\n",
       "471489     3.00     7782.00   j      NaN     89235 18998.00\n",
       "471490     5.00      435.00   p      NaN    119788 57048.00\n",
       "471491     3.00      176.00   o      NaN     86824 10193.00\n",
       "471492     2.00      648.00   a      NaN    102240 12785.00\n",
       "\n",
       "[471493 rows x 6 columns]"
      ]
     },
     "execution_count": 35,
     "metadata": {},
     "output_type": "execute_result"
    }
   ],
   "source": [
    "# concating the test data (df1) an train data (df) to apply same operations\n",
    "dataset = pd.concat(objs = [df,df1],axis=0,sort=True).reset_index(drop=True)\n",
    "print(len(dataset))\n",
    "dataset"
   ]
  },
  {
   "cell_type": "code",
   "execution_count": 37,
   "id": "16bdd507",
   "metadata": {},
   "outputs": [
    {
     "data": {
      "text/plain": [
       "<matplotlib.legend.Legend at 0x2b00fb4ebe0>"
      ]
     },
     "execution_count": 37,
     "metadata": {},
     "output_type": "execute_result"
    },
    {
     "data": {
      "image/png": "[encoded data removed]",
      "text/plain": [
       "<Figure size 432x288 with 1 Axes>"
      ]
     },
     "metadata": {
      "needs_background": "light"
     },
     "output_type": "display_data"
    }
   ],
   "source": [
    "# Attribute number 1- Reputation\n",
    "g = sns.distplot(dataset[\"Reputation\"], color=\"b\", label=\"Skewness : %.2f\"%(dataset[\"Reputation\"].skew()))\n",
    "g.legend(loc='best')"
   ]
  },
  {
   "cell_type": "code",
   "execution_count": 49,
   "id": "2caae3c9",
   "metadata": {},
   "outputs": [
    {
     "data": {
      "image/png": "[encoded data removed]",
      "text/plain": [
       "<Figure size 432x288 with 1 Axes>"
      ]
     },
     "metadata": {
      "needs_background": "light"
     },
     "output_type": "display_data"
    }
   ],
   "source": [
    "g = sns.boxplot(dataset['Reputation'],orient=\"h\" )"
   ]
  },
  {
   "cell_type": "code",
   "execution_count": 50,
   "id": "dbabc78c",
   "metadata": {},
   "outputs": [
    {
     "data": {
      "text/plain": [
       "<matplotlib.legend.Legend at 0x2b013237d90>"
      ]
     },
     "execution_count": 50,
     "metadata": {},
     "output_type": "execute_result"
    },
    {
     "data": {
      "image/png": "[encoded data removed]",
      "text/plain": [
       "<Figure size 432x288 with 1 Axes>"
      ]
     },
     "metadata": {
      "needs_background": "light"
     },
     "output_type": "display_data"
    }
   ],
   "source": [
    "# Treating outliers for this column as there are huge no. of outliers\n",
    "dataset['Reputation'] = dataset['Reputation'].map(lambda i:np.log(i) if i>0 else 0)\n",
    "g = sns.distplot(dataset[\"Reputation\"], color=\"m\", label=\"Skewness : %.2f\"%(dataset[\"Reputation\"].skew()))\n",
    "g.legend(loc='best')"
   ]
  },
  {
   "cell_type": "code",
   "execution_count": 51,
   "id": "aeaffe34",
   "metadata": {},
   "outputs": [
    {
     "data": {
      "image/png": "[encoded data removed]",
      "text/plain": [
       "<Figure size 432x288 with 1 Axes>"
      ]
     },
     "metadata": {
      "needs_background": "light"
     },
     "output_type": "display_data"
    }
   ],
   "source": [
    "# checking box plot after outlier treatment\n",
    "g = sns.boxplot(dataset['Reputation'])"
   ]
  },
  {
   "cell_type": "code",
   "execution_count": 55,
   "id": "fb08cb01",
   "metadata": {},
   "outputs": [
    {
     "data": {
      "text/plain": [
       "<matplotlib.legend.Legend at 0x2b014926100>"
      ]
     },
     "execution_count": 55,
     "metadata": {},
     "output_type": "execute_result"
    },
    {
     "data": {
      "image/png": "[encoded data removed]",
      "text/plain": [
       "<Figure size 432x288 with 1 Axes>"
      ]
     },
     "metadata": {
      "needs_background": "light"
     },
     "output_type": "display_data"
    }
   ],
   "source": [
    "# Attribute number 2- Answers\n",
    "g = sns.distplot(dataset[\"Answers\"], color=\"b\", label=\"Skewness : %.2f\"%(dataset[\"Answers\"].skew()))\n",
    "g.legend(loc='best')"
   ]
  },
  {
   "cell_type": "code",
   "execution_count": 56,
   "id": "a1ed72ad",
   "metadata": {},
   "outputs": [
    {
     "data": {
      "image/png": "[encoded data removed]",
      "text/plain": [
       "<Figure size 432x288 with 1 Axes>"
      ]
     },
     "metadata": {
      "needs_background": "light"
     },
     "output_type": "display_data"
    }
   ],
   "source": [
    "g = sns.boxplot(dataset['Answers'])"
   ]
  },
  {
   "cell_type": "code",
   "execution_count": 57,
   "id": "4cf256c0",
   "metadata": {},
   "outputs": [
    {
     "data": {
      "text/plain": [
       "<matplotlib.legend.Legend at 0x2b015ef2580>"
      ]
     },
     "execution_count": 57,
     "metadata": {},
     "output_type": "execute_result"
    },
    {
     "data": {
      "image/png": "[encoded data removed]",
      "text/plain": [
       "<Figure size 432x288 with 1 Axes>"
      ]
     },
     "metadata": {
      "needs_background": "light"
     },
     "output_type": "display_data"
    }
   ],
   "source": [
    "# Again treating outliers for this column as there are huge no. of outliers\n",
    "dataset['Answers'] = dataset['Answers'].map(lambda i:np.log(i) if i>0 else 0)\n",
    "g = sns.distplot(dataset[\"Answers\"], color=\"b\", label=\"Skewness : %.2f\"%(dataset[\"Answers\"].skew()))\n",
    "g.legend(loc='best')"
   ]
  },
  {
   "cell_type": "code",
   "execution_count": 58,
   "id": "0b114107",
   "metadata": {},
   "outputs": [
    {
     "data": {
      "image/png": "[encoded data removed]",
      "text/plain": [
       "<Figure size 432x288 with 1 Axes>"
      ]
     },
     "metadata": {
      "needs_background": "light"
     },
     "output_type": "display_data"
    }
   ],
   "source": [
    "# checking box plot after outlier treatment\n",
    "g = sns.boxplot(dataset['Answers'])"
   ]
  },
  {
   "cell_type": "code",
   "execution_count": 59,
   "id": "479d975b",
   "metadata": {},
   "outputs": [
    {
     "data": {
      "text/plain": [
       "<matplotlib.legend.Legend at 0x2b0168f8430>"
      ]
     },
     "execution_count": 59,
     "metadata": {},
     "output_type": "execute_result"
    },
    {
     "data": {
      "image/png": "[encoded data removed]",
      "text/plain": [
       "<Figure size 432x288 with 1 Axes>"
      ]
     },
     "metadata": {
      "needs_background": "light"
     },
     "output_type": "display_data"
    }
   ],
   "source": [
    "# Attribute number 3- Views\n",
    "g = sns.distplot(dataset[\"Views\"], color=\"b\", label=\"Skewness : %.2f\"%(dataset[\"Views\"].skew()))\n",
    "g.legend(loc='best')"
   ]
  },
  {
   "cell_type": "code",
   "execution_count": 60,
   "id": "d9e1be16",
   "metadata": {},
   "outputs": [
    {
     "data": {
      "text/plain": [
       "<matplotlib.legend.Legend at 0x2b01692f970>"
      ]
     },
     "execution_count": 60,
     "metadata": {},
     "output_type": "execute_result"
    },
    {
     "data": {
      "image/png": "[encoded data removed]",
      "text/plain": [
       "<Figure size 432x288 with 1 Axes>"
      ]
     },
     "metadata": {
      "needs_background": "light"
     },
     "output_type": "display_data"
    }
   ],
   "source": [
    "# Again treating outliers for this column as there are huge no. of outliers\n",
    "dataset['Views'] = dataset['Views'].map(lambda i:np.log(i) if i>0 else 0)\n",
    "g = sns.distplot(dataset[\"Views\"], color=\"m\", label=\"Skewness : %.2f\"%(dataset[\"Views\"].skew()))\n",
    "g.legend(loc='best')"
   ]
  },
  {
   "cell_type": "code",
   "execution_count": 61,
   "id": "bab88686",
   "metadata": {},
   "outputs": [
    {
     "data": {
      "image/png": "[encoded data removed]",
      "text/plain": [
       "<Figure size 432x288 with 1 Axes>"
      ]
     },
     "metadata": {
      "needs_background": "light"
     },
     "output_type": "display_data"
    }
   ],
   "source": [
    "# checking box plot after outlier treatment\n",
    "g = sns.boxplot(dataset['Views'])"
   ]
  },
  {
   "cell_type": "code",
   "execution_count": 62,
   "id": "7abfea0b",
   "metadata": {},
   "outputs": [
    {
     "data": {
      "text/plain": [
       "<matplotlib.legend.Legend at 0x2b014a7a6d0>"
      ]
     },
     "execution_count": 62,
     "metadata": {},
     "output_type": "execute_result"
    },
    {
     "data": {
      "image/png": "[encoded data removed]",
      "text/plain": [
       "<Figure size 432x288 with 1 Axes>"
      ]
     },
     "metadata": {
      "needs_background": "light"
     },
     "output_type": "display_data"
    }
   ],
   "source": [
    "# Attribute number 4- Username\n",
    "g = sns.distplot(dataset[\"Username\"], color=\"b\", label=\"Skewness : %.2f\"%(dataset[\"Username\"].skew()))\n",
    "g.legend(loc='best')"
   ]
  },
  {
   "cell_type": "code",
   "execution_count": 63,
   "id": "4e294c17",
   "metadata": {},
   "outputs": [
    {
     "data": {
      "image/png": "[encoded data removed]",
      "text/plain": [
       "<Figure size 432x288 with 1 Axes>"
      ]
     },
     "metadata": {
      "needs_background": "light"
     },
     "output_type": "display_data"
    }
   ],
   "source": [
    "# checking box plot\n",
    "g = sns.boxplot(dataset['Username'])"
   ]
  },
  {
   "cell_type": "code",
   "execution_count": 64,
   "id": "8b8621e7",
   "metadata": {},
   "outputs": [
    {
     "data": {
      "image/png": "[encoded data removed]",
      "text/plain": [
       "<Figure size 432x288 with 1 Axes>"
      ]
     },
     "metadata": {
      "needs_background": "light"
     },
     "output_type": "display_data"
    }
   ],
   "source": [
    "# Attribute number 5- Tags\n",
    "g = sns.countplot(\"Tag\", data = dataset)"
   ]
  },
  {
   "cell_type": "markdown",
   "id": "09ad94cc",
   "metadata": {},
   "source": [
    "## Label Encoding"
   ]
  },
  {
   "cell_type": "code",
   "execution_count": 68,
   "id": "b25faa0c",
   "metadata": {},
   "outputs": [],
   "source": [
    "dataset['Tag'] = le().fit_transform(dataset['Tag'])"
   ]
  },
  {
   "cell_type": "code",
   "execution_count": 74,
   "id": "6469edb6",
   "metadata": {},
   "outputs": [
    {
     "data": {
      "text/plain": [
       "1    103251\n",
       "4    103043\n",
       "6     62120\n",
       "3     46500\n",
       "0     45253\n",
       "8     33411\n",
       "2     29346\n",
       "5     20842\n",
       "7     17755\n",
       "9      9972\n",
       "Name: Tag, dtype: int64"
      ]
     },
     "execution_count": 74,
     "metadata": {},
     "output_type": "execute_result"
    }
   ],
   "source": [
    "dataset[\"Tag\"].value_counts()"
   ]
  },
  {
   "cell_type": "code",
   "execution_count": 76,
   "id": "530261e2",
   "metadata": {},
   "outputs": [
    {
     "name": "stdout",
     "output_type": "stream",
     "text": [
      "<class 'pandas.core.frame.DataFrame'>\n",
      "RangeIndex: 471493 entries, 0 to 471492\n",
      "Data columns (total 6 columns):\n",
      " #   Column      Non-Null Count   Dtype  \n",
      "---  ------      --------------   -----  \n",
      " 0   Answers     471493 non-null  float64\n",
      " 1   Reputation  471493 non-null  float64\n",
      " 2   Tag         471493 non-null  int64  \n",
      " 3   Upvotes     330045 non-null  float64\n",
      " 4   Username    471493 non-null  int64  \n",
      " 5   Views       471493 non-null  float64\n",
      "dtypes: float64(4), int64(2)\n",
      "memory usage: 21.6 MB\n"
     ]
    }
   ],
   "source": [
    "dataset.info()"
   ]
  },
  {
   "cell_type": "markdown",
   "id": "d107140d",
   "metadata": {},
   "source": [
    "## Checking PCA variance of each feature"
   ]
  },
  {
   "cell_type": "code",
   "execution_count": 77,
   "id": "321e0470",
   "metadata": {},
   "outputs": [
    {
     "data": {
      "text/plain": [
       "(471493, 4)"
      ]
     },
     "execution_count": 77,
     "metadata": {},
     "output_type": "execute_result"
    }
   ],
   "source": [
    "# firstly applying features scaling\n",
    "sd = MinMaxScaler()\n",
    "norm1 = sd.fit(dataset[['Answers','Reputation','Username','Views']])\n",
    "x = norm1.transform(dataset[['Answers','Reputation','Username','Views']])\n",
    "x.shape"
   ]
  },
  {
   "cell_type": "code",
   "execution_count": 78,
   "id": "7cd5bee9",
   "metadata": {},
   "outputs": [
    {
     "data": {
      "text/plain": [
       "array([[0.16005307, 0.59748905, 0.88553984, 0.51018852],\n",
       "       [0.57378427, 0.73374996, 0.12394018, 0.65790617],\n",
       "       [0.32010615, 0.52058421, 0.31966336, 0.51219497],\n",
       "       ...,\n",
       "       [0.37163173, 0.43842955, 0.68162833, 0.65957131],\n",
       "       [0.25367812, 0.37312986, 0.49405365, 0.52981882],\n",
       "       [0.16005307, 0.46719068, 0.58177514, 0.54688904]])"
      ]
     },
     "execution_count": 78,
     "metadata": {},
     "output_type": "execute_result"
    }
   ],
   "source": [
    "x"
   ]
  },
  {
   "cell_type": "code",
   "execution_count": 79,
   "id": "2e7723e8",
   "metadata": {},
   "outputs": [
    {
     "data": {
      "text/html": [
       "<div>\n",
       "<style scoped>\n",
       "    .dataframe tbody tr th:only-of-type {\n",
       "        vertical-align: middle;\n",
       "    }\n",
       "\n",
       "    .dataframe tbody tr th {\n",
       "        vertical-align: top;\n",
       "    }\n",
       "\n",
       "    .dataframe thead th {\n",
       "        text-align: right;\n",
       "    }\n",
       "</style>\n",
       "<table border=\"1\" class=\"dataframe\">\n",
       "  <thead>\n",
       "    <tr style=\"text-align: right;\">\n",
       "      <th></th>\n",
       "      <th>Answers</th>\n",
       "      <th>Reputation</th>\n",
       "      <th>Tag</th>\n",
       "      <th>Upvotes</th>\n",
       "      <th>Username</th>\n",
       "      <th>Views</th>\n",
       "    </tr>\n",
       "  </thead>\n",
       "  <tbody>\n",
       "    <tr>\n",
       "      <th>count</th>\n",
       "      <td>471493.00</td>\n",
       "      <td>471493.00</td>\n",
       "      <td>471493.00</td>\n",
       "      <td>330045.00</td>\n",
       "      <td>471493.00</td>\n",
       "      <td>471493.00</td>\n",
       "    </tr>\n",
       "    <tr>\n",
       "      <th>mean</th>\n",
       "      <td>0.25</td>\n",
       "      <td>0.50</td>\n",
       "      <td>3.55</td>\n",
       "      <td>337.51</td>\n",
       "      <td>0.46</td>\n",
       "      <td>0.51</td>\n",
       "    </tr>\n",
       "    <tr>\n",
       "      <th>std</th>\n",
       "      <td>0.17</td>\n",
       "      <td>0.17</td>\n",
       "      <td>2.49</td>\n",
       "      <td>3592.44</td>\n",
       "      <td>0.28</td>\n",
       "      <td>0.13</td>\n",
       "    </tr>\n",
       "    <tr>\n",
       "      <th>min</th>\n",
       "      <td>0.00</td>\n",
       "      <td>0.00</td>\n",
       "      <td>0.00</td>\n",
       "      <td>0.00</td>\n",
       "      <td>0.00</td>\n",
       "      <td>0.00</td>\n",
       "    </tr>\n",
       "    <tr>\n",
       "      <th>25%</th>\n",
       "      <td>0.16</td>\n",
       "      <td>0.41</td>\n",
       "      <td>1.00</td>\n",
       "      <td>8.00</td>\n",
       "      <td>0.23</td>\n",
       "      <td>0.43</td>\n",
       "    </tr>\n",
       "    <tr>\n",
       "      <th>50%</th>\n",
       "      <td>0.25</td>\n",
       "      <td>0.51</td>\n",
       "      <td>4.00</td>\n",
       "      <td>28.00</td>\n",
       "      <td>0.45</td>\n",
       "      <td>0.52</td>\n",
       "    </tr>\n",
       "    <tr>\n",
       "      <th>75%</th>\n",
       "      <td>0.37</td>\n",
       "      <td>0.62</td>\n",
       "      <td>6.00</td>\n",
       "      <td>107.00</td>\n",
       "      <td>0.70</td>\n",
       "      <td>0.60</td>\n",
       "    </tr>\n",
       "    <tr>\n",
       "      <th>max</th>\n",
       "      <td>1.00</td>\n",
       "      <td>1.00</td>\n",
       "      <td>9.00</td>\n",
       "      <td>615278.00</td>\n",
       "      <td>1.00</td>\n",
       "      <td>1.00</td>\n",
       "    </tr>\n",
       "  </tbody>\n",
       "</table>\n",
       "</div>"
      ],
      "text/plain": [
       "        Answers  Reputation       Tag   Upvotes  Username     Views\n",
       "count 471493.00   471493.00 471493.00 330045.00 471493.00 471493.00\n",
       "mean       0.25        0.50      3.55    337.51      0.46      0.51\n",
       "std        0.17        0.17      2.49   3592.44      0.28      0.13\n",
       "min        0.00        0.00      0.00      0.00      0.00      0.00\n",
       "25%        0.16        0.41      1.00      8.00      0.23      0.43\n",
       "50%        0.25        0.51      4.00     28.00      0.45      0.52\n",
       "75%        0.37        0.62      6.00    107.00      0.70      0.60\n",
       "max        1.00        1.00      9.00 615278.00      1.00      1.00"
      ]
     },
     "execution_count": 79,
     "metadata": {},
     "output_type": "execute_result"
    }
   ],
   "source": [
    "dataset[['Answers','Reputation','Username','Views']] = x[:,:]\n",
    "dataset.describe()"
   ]
  },
  {
   "cell_type": "code",
   "execution_count": 81,
   "id": "71f07bd1",
   "metadata": {},
   "outputs": [
    {
     "name": "stdout",
     "output_type": "stream",
     "text": [
      "(330045, 5) (141448, 5) (330045,)\n"
     ]
    }
   ],
   "source": [
    "# slicing back to train and test set\n",
    "y_train = np.array(dataset['Upvotes'],dtype = np.int64)[0:len(df)]\n",
    "x_train = dataset[0:len(df)][['Answers','Reputation','Tag','Username','Views']]\n",
    "x_test = dataset[len(df):][['Answers','Reputation','Tag','Username','Views']]\n",
    "print(x_train.shape,x_test.shape,y_train.shape)"
   ]
  },
  {
   "cell_type": "code",
   "execution_count": 82,
   "id": "f36e45c3",
   "metadata": {},
   "outputs": [
    {
     "data": {
      "text/plain": [
       "array([ 97.6,  98.8,  99.4,  99.8, 100. ])"
      ]
     },
     "execution_count": 82,
     "metadata": {},
     "output_type": "execute_result"
    }
   ],
   "source": [
    "# again applying PCA with 8 features\n",
    "# identifying which features adds how much variance to data\n",
    "\n",
    "\n",
    "covar_matrix = PCA(n_components = 5) #we have 8 numerical features\n",
    "covar_matrix.fit(dataset[['Answers','Reputation','Tag','Username','Views']])\n",
    "variance = covar_matrix.explained_variance_ratio_ #calculate variance ratios\n",
    "\n",
    "var=np.cumsum(np.round(variance, decimals=3)*100)\n",
    "components = covar_matrix.fit_transform(dataset[['Answers','Reputation','Tag','Username','Views']])\n",
    "var #cumulative sum of variance explained with [n] features"
   ]
  },
  {
   "cell_type": "code",
   "execution_count": 83,
   "id": "90aea08f",
   "metadata": {},
   "outputs": [
    {
     "data": {
      "text/html": [
       "<table class=\"simpletable\">\n",
       "<caption>OLS Regression Results</caption>\n",
       "<tr>\n",
       "  <th>Dep. Variable:</th>            <td>y</td>        <th>  R-squared (uncentered):</th>       <td>   0.028</td>  \n",
       "</tr>\n",
       "<tr>\n",
       "  <th>Model:</th>                   <td>OLS</td>       <th>  Adj. R-squared (uncentered):</th>  <td>   0.028</td>  \n",
       "</tr>\n",
       "<tr>\n",
       "  <th>Method:</th>             <td>Least Squares</td>  <th>  F-statistic:       </th>           <td>   1882.</td>  \n",
       "</tr>\n",
       "<tr>\n",
       "  <th>Date:</th>             <td>Wed, 06 Apr 2022</td> <th>  Prob (F-statistic):</th>            <td>  0.00</td>   \n",
       "</tr>\n",
       "<tr>\n",
       "  <th>Time:</th>                 <td>16:06:36</td>     <th>  Log-Likelihood:    </th>          <td>-3.1671e+06</td>\n",
       "</tr>\n",
       "<tr>\n",
       "  <th>No. Observations:</th>      <td>330045</td>      <th>  AIC:               </th>           <td>6.334e+06</td> \n",
       "</tr>\n",
       "<tr>\n",
       "  <th>Df Residuals:</th>          <td>330040</td>      <th>  BIC:               </th>           <td>6.334e+06</td> \n",
       "</tr>\n",
       "<tr>\n",
       "  <th>Df Model:</th>              <td>     5</td>      <th>                     </th>               <td> </td>     \n",
       "</tr>\n",
       "<tr>\n",
       "  <th>Covariance Type:</th>      <td>nonrobust</td>    <th>                     </th>               <td> </td>     \n",
       "</tr>\n",
       "</table>\n",
       "<table class=\"simpletable\">\n",
       "<tr>\n",
       "       <td></td>         <th>coef</th>     <th>std err</th>      <th>t</th>      <th>P>|t|</th>  <th>[0.025</th>    <th>0.975]</th>  \n",
       "</tr>\n",
       "<tr>\n",
       "  <th>Answers</th>    <td> 1735.0095</td> <td>   42.601</td> <td>   40.727</td> <td> 0.000</td> <td> 1651.512</td> <td> 1818.507</td>\n",
       "</tr>\n",
       "<tr>\n",
       "  <th>Reputation</th> <td>  840.3183</td> <td>   33.149</td> <td>   25.350</td> <td> 0.000</td> <td>  775.348</td> <td>  905.289</td>\n",
       "</tr>\n",
       "<tr>\n",
       "  <th>Tag</th>        <td>  -43.4670</td> <td>    2.368</td> <td>  -18.356</td> <td> 0.000</td> <td>  -48.108</td> <td>  -38.826</td>\n",
       "</tr>\n",
       "<tr>\n",
       "  <th>Username</th>   <td> -589.2666</td> <td>   20.743</td> <td>  -28.408</td> <td> 0.000</td> <td> -629.922</td> <td> -548.611</td>\n",
       "</tr>\n",
       "<tr>\n",
       "  <th>Views</th>      <td>    3.8047</td> <td>   44.107</td> <td>    0.086</td> <td> 0.931</td> <td>  -82.643</td> <td>   90.252</td>\n",
       "</tr>\n",
       "</table>\n",
       "<table class=\"simpletable\">\n",
       "<tr>\n",
       "  <th>Omnibus:</th>       <td>1197235.857</td> <th>  Durbin-Watson:     </th>     <td>   1.999</td>     \n",
       "</tr>\n",
       "<tr>\n",
       "  <th>Prob(Omnibus):</th>   <td> 0.000</td>    <th>  Jarque-Bera (JB):  </th> <td>1158093756322.303</td>\n",
       "</tr>\n",
       "<tr>\n",
       "  <th>Skew:</th>            <td>75.564</td>    <th>  Prob(JB):          </th>     <td>    0.00</td>     \n",
       "</tr>\n",
       "<tr>\n",
       "  <th>Kurtosis:</th>       <td>9178.548</td>   <th>  Cond. No.          </th>     <td>    40.0</td>     \n",
       "</tr>\n",
       "</table><br/><br/>Notes:<br/>[1] R² is computed without centering (uncentered) since the model does not contain a constant.<br/>[2] Standard Errors assume that the covariance matrix of the errors is correctly specified."
      ],
      "text/plain": [
       "<class 'statsmodels.iolib.summary.Summary'>\n",
       "\"\"\"\n",
       "                                 OLS Regression Results                                \n",
       "=======================================================================================\n",
       "Dep. Variable:                      y   R-squared (uncentered):                   0.028\n",
       "Model:                            OLS   Adj. R-squared (uncentered):              0.028\n",
       "Method:                 Least Squares   F-statistic:                              1882.\n",
       "Date:                Wed, 06 Apr 2022   Prob (F-statistic):                        0.00\n",
       "Time:                        16:06:36   Log-Likelihood:                     -3.1671e+06\n",
       "No. Observations:              330045   AIC:                                  6.334e+06\n",
       "Df Residuals:                  330040   BIC:                                  6.334e+06\n",
       "Df Model:                           5                                                  \n",
       "Covariance Type:            nonrobust                                                  \n",
       "==============================================================================\n",
       "                 coef    std err          t      P>|t|      [0.025      0.975]\n",
       "------------------------------------------------------------------------------\n",
       "Answers     1735.0095     42.601     40.727      0.000    1651.512    1818.507\n",
       "Reputation   840.3183     33.149     25.350      0.000     775.348     905.289\n",
       "Tag          -43.4670      2.368    -18.356      0.000     -48.108     -38.826\n",
       "Username    -589.2666     20.743    -28.408      0.000    -629.922    -548.611\n",
       "Views          3.8047     44.107      0.086      0.931     -82.643      90.252\n",
       "==============================================================================\n",
       "Omnibus:                  1197235.857   Durbin-Watson:                   1.999\n",
       "Prob(Omnibus):                  0.000   Jarque-Bera (JB):    1158093756322.303\n",
       "Skew:                          75.564   Prob(JB):                         0.00\n",
       "Kurtosis:                    9178.548   Cond. No.                         40.0\n",
       "==============================================================================\n",
       "\n",
       "Notes:\n",
       "[1] R² is computed without centering (uncentered) since the model does not contain a constant.\n",
       "[2] Standard Errors assume that the covariance matrix of the errors is correctly specified.\n",
       "\"\"\""
      ]
     },
     "execution_count": 83,
     "metadata": {},
     "output_type": "execute_result"
    }
   ],
   "source": [
    "# checking importance using pvalue \n",
    "# Applying p-value to check feature dependence\n",
    "import statsmodels.api as sm\n",
    "regressor_OLS = sm.OLS(endog = y_train, exog = x_train).fit()\n",
    "regressor_OLS.summary()"
   ]
  },
  {
   "cell_type": "code",
   "execution_count": 87,
   "id": "551e9a9c",
   "metadata": {},
   "outputs": [
    {
     "data": {
      "text/plain": [
       "<AxesSubplot:>"
      ]
     },
     "execution_count": 87,
     "metadata": {},
     "output_type": "execute_result"
    },
    {
     "data": {
      "image/png": "[encoded data removed]",
      "text/plain": [
       "<Figure size 432x288 with 2 Axes>"
      ]
     },
     "metadata": {
      "needs_background": "light"
     },
     "output_type": "display_data"
    }
   ],
   "source": [
    "# making heatmap of correlation\n",
    "sns.heatmap(pd.concat([x_train,pd.DataFrame(y_train, columns= ['Upvotes'])],axis=1).corr(),annot = True, fmt = '.2f')"
   ]
  },
  {
   "cell_type": "code",
   "execution_count": 88,
   "id": "90d4dae3",
   "metadata": {},
   "outputs": [
    {
     "name": "stdout",
     "output_type": "stream",
     "text": [
      "There are 14140 no. of examples which have outliers in 1 columns \n",
      "the examples for this are        Tag  Reputation  Answers  Username     Views  Upvotes\n",
      "46       i        0.00    22.00     45812  45331.00    30.00\n",
      "95       j        2.29    41.00     23334 752007.00 12565.00\n",
      "257      p        2.18    25.00     66014 414160.00  2507.00\n",
      "302      i        1.86    21.00     45715 116632.00   287.00\n",
      "393      c        1.88    25.00     23827 201770.00   126.00\n",
      "...     ..         ...      ...       ...       ...      ...\n",
      "329521   j        0.94     2.00     63039     67.00   167.00\n",
      "329721   c        1.58     1.00     77524     48.00     0.00\n",
      "329723   p        1.26     0.00    134069     32.00     0.00\n",
      "329858   j        1.75     0.00     89809     57.00     1.00\n",
      "330009   s        1.93     1.00    118285     71.00   116.00\n",
      "\n",
      "[14140 rows x 6 columns]\n",
      "There are 550 no. of examples which have outliers in 2 columns \n",
      "the examples for this are        Tag  Reputation  Answers  Username      Views   Upvotes\n",
      "46       i        0.00    22.00     45812   45331.00     30.00\n",
      "3943     j        0.00    25.00    144677  406541.00      0.00\n",
      "6621     c        0.00    20.00    149150    4722.00      0.00\n",
      "8845     a        2.21    22.00     60400  952491.00  10594.00\n",
      "11257    j        2.46    39.00    135391 1201750.00 195793.00\n",
      "...     ..         ...      ...       ...        ...       ...\n",
      "322064   p        0.09     2.00    154602      73.00      1.00\n",
      "324510   p        0.09     3.00     21987      77.00      5.00\n",
      "324948   a        0.00     1.00     70210      50.00      2.00\n",
      "327372   a        0.00     2.00     27953      67.00      7.00\n",
      "328049   a        0.00     1.00     27224      67.00      2.00\n",
      "\n",
      "[550 rows x 6 columns]\n",
      "There are 13 no. of examples which have outliers in 3 columns \n",
      "the examples for this are        Tag  Reputation  Answers  Username      Views   Upvotes\n",
      "37080    j        2.58    32.00     30884 1068171.00 460447.00\n",
      "86457    j        2.57    39.00     88862 1815987.00 615278.00\n",
      "95926    h        0.00    26.00     45704  952224.00      0.00\n",
      "140240   p        0.00    20.00     57523  984601.00      1.00\n",
      "166449   j        0.00    20.00        76 1117708.00      1.00\n",
      "181608   j        0.00    20.00         1 1215345.00      0.00\n",
      "185140   h        0.00    34.00     33744 1129870.00      0.00\n",
      "190094   c        0.00    37.00    105412 1455187.00      1.00\n",
      "207851   c        0.00    23.00    135089  963943.00      1.00\n",
      "207961   c        0.00    34.00     33744 1129843.00      1.00\n",
      "224878   j        0.00    23.00    135089  963840.00      1.00\n",
      "232054   c        0.00    26.00     45704  952212.00      1.00\n",
      "324548   h        0.00    23.00    135089  963968.00      0.00\n",
      "There are 0 no. of examples which have outliers in 4 columns \n",
      "the examples for this are Empty DataFrame\n",
      "Columns: [Tag, Reputation, Answers, Username, Views, Upvotes]\n",
      "Index: []\n",
      "There are 0 no. of examples which have outliers in 5 columns \n",
      "the examples for this are Empty DataFrame\n",
      "Columns: [Tag, Reputation, Answers, Username, Views, Upvotes]\n",
      "Index: []\n"
     ]
    }
   ],
   "source": [
    "index_list_count1 = []\n",
    "for i in range(len(x_train.columns)):\n",
    "    multioutlier_indices = outlier_removal(x_train,x_train.columns,i)\n",
    "    print('There are {} no. of examples which have outliers in {} columns '.format(len(multioutlier_indices), i+1))\n",
    "    index_list_count1.append(multioutlier_indices)      \n",
    "    print('the examples for this are',df.loc[multioutlier_indices] ) "
   ]
  },
  {
   "cell_type": "code",
   "execution_count": 89,
   "id": "f0f72fd1",
   "metadata": {},
   "outputs": [
    {
     "data": {
      "text/plain": [
       "315905"
      ]
     },
     "execution_count": 89,
     "metadata": {},
     "output_type": "execute_result"
    }
   ],
   "source": [
    "#x_val1 = x_train.loc[index_list_count1[0]]\n",
    "#y_val1 = pd.DataFrame(y_train).loc[index_list_count1[0]]\n",
    "x_train = x_train.drop(index_list_count1[0])\n",
    "len(x_train)"
   ]
  },
  {
   "cell_type": "code",
   "execution_count": 90,
   "id": "21315624",
   "metadata": {},
   "outputs": [
    {
     "data": {
      "text/plain": [
       "315905"
      ]
     },
     "execution_count": 90,
     "metadata": {},
     "output_type": "execute_result"
    }
   ],
   "source": [
    "y_train = pd.DataFrame(y_train).drop(index_list_count1[0])\n",
    "len(y_train)"
   ]
  },
  {
   "cell_type": "code",
   "execution_count": 91,
   "id": "48386ebb",
   "metadata": {},
   "outputs": [
    {
     "data": {
      "text/html": [
       "<div>\n",
       "<style scoped>\n",
       "    .dataframe tbody tr th:only-of-type {\n",
       "        vertical-align: middle;\n",
       "    }\n",
       "\n",
       "    .dataframe tbody tr th {\n",
       "        vertical-align: top;\n",
       "    }\n",
       "\n",
       "    .dataframe thead th {\n",
       "        text-align: right;\n",
       "    }\n",
       "</style>\n",
       "<table border=\"1\" class=\"dataframe\">\n",
       "  <thead>\n",
       "    <tr style=\"text-align: right;\">\n",
       "      <th></th>\n",
       "      <th>Answers</th>\n",
       "      <th>Reputation</th>\n",
       "      <th>Tag</th>\n",
       "      <th>Username</th>\n",
       "      <th>Views</th>\n",
       "    </tr>\n",
       "  </thead>\n",
       "  <tbody>\n",
       "    <tr>\n",
       "      <th>39463</th>\n",
       "      <td>0.32</td>\n",
       "      <td>0.43</td>\n",
       "      <td>2</td>\n",
       "      <td>0.02</td>\n",
       "      <td>0.64</td>\n",
       "    </tr>\n",
       "    <tr>\n",
       "      <th>200850</th>\n",
       "      <td>0.25</td>\n",
       "      <td>0.59</td>\n",
       "      <td>1</td>\n",
       "      <td>0.64</td>\n",
       "      <td>0.36</td>\n",
       "    </tr>\n",
       "    <tr>\n",
       "      <th>133526</th>\n",
       "      <td>0.00</td>\n",
       "      <td>0.63</td>\n",
       "      <td>4</td>\n",
       "      <td>0.20</td>\n",
       "      <td>0.60</td>\n",
       "    </tr>\n",
       "    <tr>\n",
       "      <th>221999</th>\n",
       "      <td>0.32</td>\n",
       "      <td>0.41</td>\n",
       "      <td>1</td>\n",
       "      <td>0.23</td>\n",
       "      <td>0.46</td>\n",
       "    </tr>\n",
       "    <tr>\n",
       "      <th>26821</th>\n",
       "      <td>0.25</td>\n",
       "      <td>0.43</td>\n",
       "      <td>4</td>\n",
       "      <td>0.18</td>\n",
       "      <td>0.57</td>\n",
       "    </tr>\n",
       "    <tr>\n",
       "      <th>...</th>\n",
       "      <td>...</td>\n",
       "      <td>...</td>\n",
       "      <td>...</td>\n",
       "      <td>...</td>\n",
       "      <td>...</td>\n",
       "    </tr>\n",
       "    <tr>\n",
       "      <th>202296</th>\n",
       "      <td>0.37</td>\n",
       "      <td>0.67</td>\n",
       "      <td>6</td>\n",
       "      <td>0.28</td>\n",
       "      <td>0.46</td>\n",
       "    </tr>\n",
       "    <tr>\n",
       "      <th>295385</th>\n",
       "      <td>0.00</td>\n",
       "      <td>0.50</td>\n",
       "      <td>1</td>\n",
       "      <td>0.00</td>\n",
       "      <td>0.51</td>\n",
       "    </tr>\n",
       "    <tr>\n",
       "      <th>321192</th>\n",
       "      <td>0.16</td>\n",
       "      <td>0.67</td>\n",
       "      <td>3</td>\n",
       "      <td>0.98</td>\n",
       "      <td>0.56</td>\n",
       "    </tr>\n",
       "    <tr>\n",
       "      <th>39020</th>\n",
       "      <td>0.16</td>\n",
       "      <td>0.65</td>\n",
       "      <td>3</td>\n",
       "      <td>0.17</td>\n",
       "      <td>0.62</td>\n",
       "    </tr>\n",
       "    <tr>\n",
       "      <th>113546</th>\n",
       "      <td>0.41</td>\n",
       "      <td>0.62</td>\n",
       "      <td>6</td>\n",
       "      <td>0.84</td>\n",
       "      <td>0.45</td>\n",
       "    </tr>\n",
       "  </tbody>\n",
       "</table>\n",
       "<p>63181 rows × 5 columns</p>\n",
       "</div>"
      ],
      "text/plain": [
       "        Answers  Reputation  Tag  Username  Views\n",
       "39463      0.32        0.43    2      0.02   0.64\n",
       "200850     0.25        0.59    1      0.64   0.36\n",
       "133526     0.00        0.63    4      0.20   0.60\n",
       "221999     0.32        0.41    1      0.23   0.46\n",
       "26821      0.25        0.43    4      0.18   0.57\n",
       "...         ...         ...  ...       ...    ...\n",
       "202296     0.37        0.67    6      0.28   0.46\n",
       "295385     0.00        0.50    1      0.00   0.51\n",
       "321192     0.16        0.67    3      0.98   0.56\n",
       "39020      0.16        0.65    3      0.17   0.62\n",
       "113546     0.41        0.62    6      0.84   0.45\n",
       "\n",
       "[63181 rows x 5 columns]"
      ]
     },
     "execution_count": 91,
     "metadata": {},
     "output_type": "execute_result"
    }
   ],
   "source": [
    "# Applying train - val split\n",
    "\n",
    "x_train,x_val,y_train,y_val  = train_test_split(x_train,y_train,test_size = 0.2, random_state=42)\n",
    "x_val"
   ]
  },
  {
   "cell_type": "code",
   "execution_count": 92,
   "id": "c1c99726",
   "metadata": {},
   "outputs": [],
   "source": [
    "# dropping two columns in all\n",
    "\n",
    "x_train.drop(['Username','Tag'],axis=1,inplace = True)\n",
    "x_val.drop(['Username','Tag'],axis=1,inplace = True)\n",
    "x_test.drop(['Tag','Username'],axis=1,inplace = True)"
   ]
  },
  {
   "cell_type": "markdown",
   "id": "94a9b86a",
   "metadata": {},
   "source": [
    "## MODEL BUILDING"
   ]
  },
  {
   "cell_type": "code",
   "execution_count": 104,
   "id": "0f49df79",
   "metadata": {},
   "outputs": [],
   "source": [
    "# to import linear regression model\n",
    "from sklearn.linear_model import LinearRegression"
   ]
  },
  {
   "cell_type": "code",
   "execution_count": 106,
   "id": "72fa6fb8",
   "metadata": {},
   "outputs": [],
   "source": [
    "# creating an object of linear regression\n",
    "Lr=LinearRegression()"
   ]
  },
  {
   "cell_type": "code",
   "execution_count": 107,
   "id": "2104dd25",
   "metadata": {},
   "outputs": [
    {
     "data": {
      "text/plain": [
       "LinearRegression()"
      ]
     },
     "execution_count": 107,
     "metadata": {},
     "output_type": "execute_result"
    }
   ],
   "source": [
    "# to create the model with all features(variables)\n",
    "Lr.fit(x_train, y_train)"
   ]
  },
  {
   "cell_type": "code",
   "execution_count": 109,
   "id": "e201bf01",
   "metadata": {},
   "outputs": [
    {
     "data": {
      "text/plain": [
       "0.08044169925411404"
      ]
     },
     "execution_count": 109,
     "metadata": {},
     "output_type": "execute_result"
    }
   ],
   "source": [
    "# to check the R square \n",
    "Lr.score(x_train,y_train)"
   ]
  },
  {
   "cell_type": "code",
   "execution_count": 110,
   "id": "7988f091",
   "metadata": {},
   "outputs": [
    {
     "data": {
      "text/plain": [
       "array([[ 413.36099601, 2163.72402245, 2025.23573034]])"
      ]
     },
     "execution_count": 110,
     "metadata": {},
     "output_type": "execute_result"
    }
   ],
   "source": [
    "Lr.coef_"
   ]
  },
  {
   "cell_type": "code",
   "execution_count": 112,
   "id": "ff922865",
   "metadata": {},
   "outputs": [],
   "source": [
    "r_sqr=Lr.score(x_train, y_train)"
   ]
  },
  {
   "cell_type": "code",
   "execution_count": 113,
   "id": "d72eea7f",
   "metadata": {},
   "outputs": [
    {
     "data": {
      "text/plain": [
       "-0.034503088339121746"
      ]
     },
     "execution_count": 113,
     "metadata": {},
     "output_type": "execute_result"
    }
   ],
   "source": [
    "# adj r_square\n",
    "1- ( 1-r_sqr)*(109-1)/ (109-12-1)"
   ]
  }
 ],
 "metadata": {
  "kernelspec": {
   "display_name": "Python 3",
   "language": "python",
   "name": "python3"
  },
  "language_info": {
   "codemirror_mode": {
    "name": "ipython",
    "version": 3
   },
   "file_extension": ".py",
   "mimetype": "text/x-python",
   "name": "python",
   "nbconvert_exporter": "python",
   "pygments_lexer": "ipython3",
   "version": "3.8.8"
  }
 },
 "nbformat": 4,
 "nbformat_minor": 5
}
